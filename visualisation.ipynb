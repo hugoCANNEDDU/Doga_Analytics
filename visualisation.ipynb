{
 "cells": [
  {
   "cell_type": "code",
   "execution_count": 2,
   "metadata": {
    "collapsed": true
   },
   "outputs": [],
   "source": [
    "import os\n",
    "import json\n",
    "import pandas as pd\n",
    "\n",
    "from pandas_profiling import ProfileReport\n",
    "import tabloo\n",
    "from pivottablejs import pivot_ui\n",
    "\n",
    "\n",
    "\n",
    "columns = [\"Id\", \"Reveal Status\", \"Rarity\", \"Rarity Score\", \"Ranking\", \"Gender\", \"Breed\", \"Fur Color\", \"Eyes Color\", \"Dominant Personality\", \"Recessive Personality\", \"Vitality\", \"Intelligence\", \"Robustness\", \"Obedience\", \"Friendliness\", \"Bonding\"]\n",
    "data_path = \"./data\"\n",
    "save_path = \"./data.csv\"\n",
    "\n",
    "raw_data = []\n",
    "for filename in os.listdir(data_path):\n",
    "   with open(os.path.join(data_path, filename), 'r') as f:\n",
    "       data = json.load(f)['data']['token'][0]\n",
    "       row = [data['id'], data['reveal_status']]\n",
    "       if data['reveal_status'] == 2 :\n",
    "           data = data['metadata']['attributes']\n",
    "           row.append(data['rarity_tier']['name'])\n",
    "           row.append(data['rarity_score'])\n",
    "           row.append(data['ranking'])\n",
    "           row.append(data['gender'])\n",
    "           row.append(data['breed']['name'])\n",
    "           row.append(data['fur_color'])\n",
    "           row.append(data['eyes_color'])\n",
    "           row.append(data['primary_personality'])\n",
    "           row.append(data['secondary_personality'])\n",
    "           row.append(data['vitality'])\n",
    "           row.append(data['intelligence'])\n",
    "           row.append(data['strength'])\n",
    "           row.append(data['obedience'])\n",
    "           row.append(data['friendliness'])\n",
    "           row.append(data['bonding_level'])\n",
    "\n",
    "       raw_data.append(row)\n",
    "\n",
    "df_data = pd.DataFrame(raw_data, columns=columns)\n",
    "df_data.set_index('Id', inplace=True)\n",
    "df_data.sort_index(inplace=True)\n",
    "df_data.to_csv(save_path, sep=';', decimal=',')\n"
   ]
  },
  {
   "cell_type": "code",
   "execution_count": 3,
   "outputs": [
    {
     "data": {
      "text/plain": "<IPython.lib.display.IFrame at 0x1e287b0cd00>",
      "text/html": "\n        <iframe\n            width=\"100%\"\n            height=\"500\"\n            src=\"pivottablejs.html\"\n            frameborder=\"0\"\n            allowfullscreen\n            \n        ></iframe>\n        "
     },
     "execution_count": 3,
     "metadata": {},
     "output_type": "execute_result"
    }
   ],
   "source": [
    "pivot_ui(df_data)"
   ],
   "metadata": {
    "collapsed": false,
    "pycharm": {
     "name": "#%%\n"
    }
   }
  }
 ],
 "metadata": {
  "kernelspec": {
   "display_name": "Python 3",
   "language": "python",
   "name": "python3"
  },
  "language_info": {
   "codemirror_mode": {
    "name": "ipython",
    "version": 2
   },
   "file_extension": ".py",
   "mimetype": "text/x-python",
   "name": "python",
   "nbconvert_exporter": "python",
   "pygments_lexer": "ipython2",
   "version": "2.7.6"
  }
 },
 "nbformat": 4,
 "nbformat_minor": 0
}